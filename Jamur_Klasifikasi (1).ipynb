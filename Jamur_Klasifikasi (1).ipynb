{
  "cells": [
    {
      "cell_type": "markdown",
      "metadata": {
        "id": "8x3CeSXSPh-0"
      },
      "source": [
        "#Klasifikasi Jamur Menggunakan Genetic Algorithm dan ANN\n",
        "\n",
        "- Muhamad Febrian Soambaton\n",
        "- Wildan\n",
        "- Amal\n",
        "- Raihan\n"
      ]
    },
    {
      "cell_type": "markdown",
      "metadata": {
        "id": "NFaRrjO1RhHU"
      },
      "source": [
        "##Import Library, dataset, dan fungsi-fungsi:"
      ]
    },
    {
      "cell_type": "markdown",
      "metadata": {
        "id": "vQxK3CqaR6XK"
      },
      "source": [
        "###Library:"
      ]
    },
    {
      "cell_type": "code",
      "execution_count": 17,
      "metadata": {
        "id": "ZiSITPWE-lgW"
      },
      "outputs": [],
      "source": [
        "import matplotlib.pyplot as plt\n",
        "import warnings\n",
        "import pandas as pd\n",
        "import numpy as np\n",
        "import seaborn as sns\n",
        "import random\n",
        "from tqdm import tqdm\n",
        "from sklearn.preprocessing import LabelEncoder\n",
        "from sklearn.model_selection import train_test_split\n",
        "from sklearn.metrics import confusion_matrix, classification_report\n",
        "from google.colab import files, drive\n",
        "\n",
        "warnings.filterwarnings('ignore')\n",
        "np.random.seed(69420)\n",
        "random.seed(69420)"
      ]
    },
    {
      "cell_type": "markdown",
      "metadata": {
        "id": "ftemv4UaR0M8"
      },
      "source": [
        "###Memasukkan Dataset:"
      ]
    },
    {
      "cell_type": "code",
      "execution_count": 18,
      "metadata": {
        "id": "LRdvCBSwgzKA"
      },
      "outputs": [],
      "source": [
        "df = pd.read_csv(\"mushrooms.csv\")"
      ]
    },
    {
      "cell_type": "markdown",
      "metadata": {
        "id": "yeyVw1MsSJdT"
      },
      "source": [
        "###Fungsi-Fungsi:"
      ]
    },
    {
      "cell_type": "code",
      "execution_count": 19,
      "metadata": {
        "id": "vdbEWi5Z-lgg"
      },
      "outputs": [],
      "source": [
        "########################\n",
        "\n",
        "def sigmoid(x):\n",
        "    return 1/(1 + np.exp(-x))\n",
        "\n",
        "def forward(x, w, activation):\n",
        "    return activation(np.matmul(x, w))\n",
        "\n",
        "def accuracy_fn(y, y_hat):\n",
        "    return (np.where(y == y_hat)[0].size / y_hat.size)\n",
        "\n",
        "def predict(x, y_hat, weights, activation):\n",
        "    predictions = np.zeros(shape=(x.shape[0]))\n",
        "\n",
        "    for idx in range(x.shape[0]):\n",
        "        r1 = x[idx, :]\n",
        "        for curr_weights in weights:\n",
        "            r1 = forward(r1, curr_weights, activation)\n",
        "        predictions[idx] = np.where(r1 == np.max(r1))[0][0]\n",
        "\n",
        "    accuracy = accuracy_fn(predictions, y_hat)\n",
        "    return accuracy, predictions\n",
        "\n",
        "def fitness(x, y_hat, weights, activation):\n",
        "    accuracy = np.empty(shape=(weights.shape[0]))\n",
        "    for idx in range(weights.shape[0]):\n",
        "        accuracy[idx], _ = predict(x, y_hat, weights[idx, :], activation)\n",
        "    return accuracy\n",
        "\n",
        "def mat_to_vector(mat_pop_weights):\n",
        "    weights_vector = []\n",
        "    for idx in range(mat_pop_weights.shape[0]):\n",
        "        curr_vector = []\n",
        "        for layer_idx in range(mat_pop_weights.shape[1]):\n",
        "            vector_weights = np.reshape(mat_pop_weights[idx, layer_idx], newshape=(mat_pop_weights[idx, layer_idx].size))\n",
        "            curr_vector.extend(vector_weights)\n",
        "        weights_vector.append(curr_vector)\n",
        "    return np.array(weights_vector)\n",
        "\n",
        "\n",
        "def vector_to_mat(vector_weights, mat_pop_weights):\n",
        "    mat_weights = []\n",
        "    for idx in range(mat_pop_weights.shape[0]):\n",
        "        start = 0\n",
        "        end = 0\n",
        "        for layer_idx in range(mat_pop_weights.shape[1]):\n",
        "            end = end + mat_pop_weights[idx, layer_idx].size\n",
        "            curr_vector = vector_weights[idx, start:end]\n",
        "            mat_layer_weights = np.reshape(curr_vector, newshape=(mat_pop_weights[idx, layer_idx].shape))\n",
        "            mat_weights.append(mat_layer_weights)\n",
        "            start = end\n",
        "    return np.reshape(mat_weights, newshape=mat_pop_weights.shape)\n",
        "\n",
        "def mating_pool(pop, fitness, num_parents):\n",
        "    print(\"pop shape\")\n",
        "    print(pop.shape)\n",
        "    parents = np.empty((num_parents, pop.shape[1]))\n",
        "    for parent_num in range(num_parents):\n",
        "        max_fitness_idx = np.where(fitness == np.max(fitness))\n",
        "        max_fitness_idx = max_fitness_idx[0][0]\n",
        "        parents[parent_num, :] = pop[max_fitness_idx, :]\n",
        "        fitness[max_fitness_idx] = -99\n",
        "    return parents\n",
        "\n",
        "def crossover(parents, offspring_size):\n",
        "    offspring = np.empty(offspring_size)\n",
        "    crossover_point = np.uint32(offspring_size[1]/2)\n",
        "\n",
        "    print(\"looping berapa kali\")\n",
        "    print(offspring_size[0])\n",
        "\n",
        "    print(\"parent shape\")\n",
        "    print(parents.shape)\n",
        "\n",
        "    for k in range(offspring_size[0]):\n",
        "        # 0, 1 | 1, 2 | 2, 3 | 3, 0\n",
        "\n",
        "        parent1_idx = k%parents.shape[0]\n",
        "        parent2_idx = (k+1)%parents.shape[0]\n",
        "\n",
        "        offspring[k, 0:crossover_point] = parents[parent1_idx, 0:crossover_point]\n",
        "        offspring[k, crossover_point:] = parents[parent2_idx, crossover_point:]\n",
        "\n",
        "    return offspring\n",
        "\n",
        "\n",
        "def mutation(offspring_crossover, mutation_percent):\n",
        "    num_mutations = np.uint32((mutation_percent*offspring_crossover.shape[1]))\n",
        "    mutation_indices = np.array(random.sample(range(0, offspring_crossover.shape[1]), num_mutations))\n",
        "\n",
        "    for idx in range(offspring_crossover.shape[0]):\n",
        "        random_value = np.random.uniform(-1.0, 1.0, 1) # kenapa uniform ? biar ga dapet nilai pengurangan/penjumlahan yang besar\n",
        "        offspring_crossover[idx, mutation_indices] = offspring_crossover[idx, mutation_indices] + random_value\n",
        "\n",
        "    return offspring_crossover\n",
        "\n",
        "##############################"
      ]
    },
    {
      "cell_type": "code",
      "execution_count": 20,
      "metadata": {
        "colab": {
          "base_uri": "https://localhost:8080/"
        },
        "id": "OQpURd0cqLSA",
        "outputId": "f3a7895a-418f-4bbc-a7cf-2bd1da1d15c0"
      },
      "outputs": [
        {
          "output_type": "execute_result",
          "data": {
            "text/plain": [
              "array([0.06218448])"
            ]
          },
          "metadata": {},
          "execution_count": 20
        }
      ],
      "source": [
        "np.random.uniform(-1.0, 1.0, 1)"
      ]
    },
    {
      "cell_type": "markdown",
      "metadata": {
        "id": "qtPfPutZSRZ6"
      },
      "source": [
        "###Membaca dataset:"
      ]
    },
    {
      "cell_type": "markdown",
      "metadata": {
        "id": "CCbPvOPpSpLH"
      },
      "source": [
        "##Pra-proses:"
      ]
    },
    {
      "cell_type": "code",
      "execution_count": 21,
      "metadata": {
        "colab": {
          "base_uri": "https://localhost:8080/",
          "height": 287
        },
        "id": "qkY6-pJ--lgk",
        "outputId": "ca44ce41-c839-463d-ce69-023670d3d0fb"
      },
      "outputs": [
        {
          "output_type": "execute_result",
          "data": {
            "text/plain": [
              "   cap-shape  cap-surface  cap-color  bruises  odor  gill-attachment  \\\n",
              "0          5            2          4        1     6                1   \n",
              "1          5            2          9        1     0                1   \n",
              "2          0            2          8        1     3                1   \n",
              "3          5            3          8        1     6                1   \n",
              "4          5            2          3        0     5                1   \n",
              "\n",
              "   gill-spacing  gill-size  gill-color  stalk-shape  ...  \\\n",
              "0             0          1           4            0  ...   \n",
              "1             0          0           4            0  ...   \n",
              "2             0          0           5            0  ...   \n",
              "3             0          1           5            0  ...   \n",
              "4             1          0           4            1  ...   \n",
              "\n",
              "   stalk-surface-below-ring  stalk-color-above-ring  stalk-color-below-ring  \\\n",
              "0                         2                       7                       7   \n",
              "1                         2                       7                       7   \n",
              "2                         2                       7                       7   \n",
              "3                         2                       7                       7   \n",
              "4                         2                       7                       7   \n",
              "\n",
              "   veil-type  veil-color  ring-number  ring-type  spore-print-color  \\\n",
              "0          0           2            1          4                  2   \n",
              "1          0           2            1          4                  3   \n",
              "2          0           2            1          4                  3   \n",
              "3          0           2            1          4                  2   \n",
              "4          0           2            1          0                  3   \n",
              "\n",
              "   population  habitat  \n",
              "0           3        5  \n",
              "1           2        1  \n",
              "2           2        3  \n",
              "3           3        5  \n",
              "4           0        1  \n",
              "\n",
              "[5 rows x 22 columns]"
            ],
            "text/html": [
              "\n",
              "  <div id=\"df-583e2f59-fd5b-4c4c-928e-5211c0d708e4\" class=\"colab-df-container\">\n",
              "    <div>\n",
              "<style scoped>\n",
              "    .dataframe tbody tr th:only-of-type {\n",
              "        vertical-align: middle;\n",
              "    }\n",
              "\n",
              "    .dataframe tbody tr th {\n",
              "        vertical-align: top;\n",
              "    }\n",
              "\n",
              "    .dataframe thead th {\n",
              "        text-align: right;\n",
              "    }\n",
              "</style>\n",
              "<table border=\"1\" class=\"dataframe\">\n",
              "  <thead>\n",
              "    <tr style=\"text-align: right;\">\n",
              "      <th></th>\n",
              "      <th>cap-shape</th>\n",
              "      <th>cap-surface</th>\n",
              "      <th>cap-color</th>\n",
              "      <th>bruises</th>\n",
              "      <th>odor</th>\n",
              "      <th>gill-attachment</th>\n",
              "      <th>gill-spacing</th>\n",
              "      <th>gill-size</th>\n",
              "      <th>gill-color</th>\n",
              "      <th>stalk-shape</th>\n",
              "      <th>...</th>\n",
              "      <th>stalk-surface-below-ring</th>\n",
              "      <th>stalk-color-above-ring</th>\n",
              "      <th>stalk-color-below-ring</th>\n",
              "      <th>veil-type</th>\n",
              "      <th>veil-color</th>\n",
              "      <th>ring-number</th>\n",
              "      <th>ring-type</th>\n",
              "      <th>spore-print-color</th>\n",
              "      <th>population</th>\n",
              "      <th>habitat</th>\n",
              "    </tr>\n",
              "  </thead>\n",
              "  <tbody>\n",
              "    <tr>\n",
              "      <th>0</th>\n",
              "      <td>5</td>\n",
              "      <td>2</td>\n",
              "      <td>4</td>\n",
              "      <td>1</td>\n",
              "      <td>6</td>\n",
              "      <td>1</td>\n",
              "      <td>0</td>\n",
              "      <td>1</td>\n",
              "      <td>4</td>\n",
              "      <td>0</td>\n",
              "      <td>...</td>\n",
              "      <td>2</td>\n",
              "      <td>7</td>\n",
              "      <td>7</td>\n",
              "      <td>0</td>\n",
              "      <td>2</td>\n",
              "      <td>1</td>\n",
              "      <td>4</td>\n",
              "      <td>2</td>\n",
              "      <td>3</td>\n",
              "      <td>5</td>\n",
              "    </tr>\n",
              "    <tr>\n",
              "      <th>1</th>\n",
              "      <td>5</td>\n",
              "      <td>2</td>\n",
              "      <td>9</td>\n",
              "      <td>1</td>\n",
              "      <td>0</td>\n",
              "      <td>1</td>\n",
              "      <td>0</td>\n",
              "      <td>0</td>\n",
              "      <td>4</td>\n",
              "      <td>0</td>\n",
              "      <td>...</td>\n",
              "      <td>2</td>\n",
              "      <td>7</td>\n",
              "      <td>7</td>\n",
              "      <td>0</td>\n",
              "      <td>2</td>\n",
              "      <td>1</td>\n",
              "      <td>4</td>\n",
              "      <td>3</td>\n",
              "      <td>2</td>\n",
              "      <td>1</td>\n",
              "    </tr>\n",
              "    <tr>\n",
              "      <th>2</th>\n",
              "      <td>0</td>\n",
              "      <td>2</td>\n",
              "      <td>8</td>\n",
              "      <td>1</td>\n",
              "      <td>3</td>\n",
              "      <td>1</td>\n",
              "      <td>0</td>\n",
              "      <td>0</td>\n",
              "      <td>5</td>\n",
              "      <td>0</td>\n",
              "      <td>...</td>\n",
              "      <td>2</td>\n",
              "      <td>7</td>\n",
              "      <td>7</td>\n",
              "      <td>0</td>\n",
              "      <td>2</td>\n",
              "      <td>1</td>\n",
              "      <td>4</td>\n",
              "      <td>3</td>\n",
              "      <td>2</td>\n",
              "      <td>3</td>\n",
              "    </tr>\n",
              "    <tr>\n",
              "      <th>3</th>\n",
              "      <td>5</td>\n",
              "      <td>3</td>\n",
              "      <td>8</td>\n",
              "      <td>1</td>\n",
              "      <td>6</td>\n",
              "      <td>1</td>\n",
              "      <td>0</td>\n",
              "      <td>1</td>\n",
              "      <td>5</td>\n",
              "      <td>0</td>\n",
              "      <td>...</td>\n",
              "      <td>2</td>\n",
              "      <td>7</td>\n",
              "      <td>7</td>\n",
              "      <td>0</td>\n",
              "      <td>2</td>\n",
              "      <td>1</td>\n",
              "      <td>4</td>\n",
              "      <td>2</td>\n",
              "      <td>3</td>\n",
              "      <td>5</td>\n",
              "    </tr>\n",
              "    <tr>\n",
              "      <th>4</th>\n",
              "      <td>5</td>\n",
              "      <td>2</td>\n",
              "      <td>3</td>\n",
              "      <td>0</td>\n",
              "      <td>5</td>\n",
              "      <td>1</td>\n",
              "      <td>1</td>\n",
              "      <td>0</td>\n",
              "      <td>4</td>\n",
              "      <td>1</td>\n",
              "      <td>...</td>\n",
              "      <td>2</td>\n",
              "      <td>7</td>\n",
              "      <td>7</td>\n",
              "      <td>0</td>\n",
              "      <td>2</td>\n",
              "      <td>1</td>\n",
              "      <td>0</td>\n",
              "      <td>3</td>\n",
              "      <td>0</td>\n",
              "      <td>1</td>\n",
              "    </tr>\n",
              "  </tbody>\n",
              "</table>\n",
              "<p>5 rows × 22 columns</p>\n",
              "</div>\n",
              "    <div class=\"colab-df-buttons\">\n",
              "\n",
              "  <div class=\"colab-df-container\">\n",
              "    <button class=\"colab-df-convert\" onclick=\"convertToInteractive('df-583e2f59-fd5b-4c4c-928e-5211c0d708e4')\"\n",
              "            title=\"Convert this dataframe to an interactive table.\"\n",
              "            style=\"display:none;\">\n",
              "\n",
              "  <svg xmlns=\"http://www.w3.org/2000/svg\" height=\"24px\" viewBox=\"0 -960 960 960\">\n",
              "    <path d=\"M120-120v-720h720v720H120Zm60-500h600v-160H180v160Zm220 220h160v-160H400v160Zm0 220h160v-160H400v160ZM180-400h160v-160H180v160Zm440 0h160v-160H620v160ZM180-180h160v-160H180v160Zm440 0h160v-160H620v160Z\"/>\n",
              "  </svg>\n",
              "    </button>\n",
              "\n",
              "  <style>\n",
              "    .colab-df-container {\n",
              "      display:flex;\n",
              "      gap: 12px;\n",
              "    }\n",
              "\n",
              "    .colab-df-convert {\n",
              "      background-color: #E8F0FE;\n",
              "      border: none;\n",
              "      border-radius: 50%;\n",
              "      cursor: pointer;\n",
              "      display: none;\n",
              "      fill: #1967D2;\n",
              "      height: 32px;\n",
              "      padding: 0 0 0 0;\n",
              "      width: 32px;\n",
              "    }\n",
              "\n",
              "    .colab-df-convert:hover {\n",
              "      background-color: #E2EBFA;\n",
              "      box-shadow: 0px 1px 2px rgba(60, 64, 67, 0.3), 0px 1px 3px 1px rgba(60, 64, 67, 0.15);\n",
              "      fill: #174EA6;\n",
              "    }\n",
              "\n",
              "    .colab-df-buttons div {\n",
              "      margin-bottom: 4px;\n",
              "    }\n",
              "\n",
              "    [theme=dark] .colab-df-convert {\n",
              "      background-color: #3B4455;\n",
              "      fill: #D2E3FC;\n",
              "    }\n",
              "\n",
              "    [theme=dark] .colab-df-convert:hover {\n",
              "      background-color: #434B5C;\n",
              "      box-shadow: 0px 1px 3px 1px rgba(0, 0, 0, 0.15);\n",
              "      filter: drop-shadow(0px 1px 2px rgba(0, 0, 0, 0.3));\n",
              "      fill: #FFFFFF;\n",
              "    }\n",
              "  </style>\n",
              "\n",
              "    <script>\n",
              "      const buttonEl =\n",
              "        document.querySelector('#df-583e2f59-fd5b-4c4c-928e-5211c0d708e4 button.colab-df-convert');\n",
              "      buttonEl.style.display =\n",
              "        google.colab.kernel.accessAllowed ? 'block' : 'none';\n",
              "\n",
              "      async function convertToInteractive(key) {\n",
              "        const element = document.querySelector('#df-583e2f59-fd5b-4c4c-928e-5211c0d708e4');\n",
              "        const dataTable =\n",
              "          await google.colab.kernel.invokeFunction('convertToInteractive',\n",
              "                                                    [key], {});\n",
              "        if (!dataTable) return;\n",
              "\n",
              "        const docLinkHtml = 'Like what you see? Visit the ' +\n",
              "          '<a target=\"_blank\" href=https://colab.research.google.com/notebooks/data_table.ipynb>data table notebook</a>'\n",
              "          + ' to learn more about interactive tables.';\n",
              "        element.innerHTML = '';\n",
              "        dataTable['output_type'] = 'display_data';\n",
              "        await google.colab.output.renderOutput(dataTable, element);\n",
              "        const docLink = document.createElement('div');\n",
              "        docLink.innerHTML = docLinkHtml;\n",
              "        element.appendChild(docLink);\n",
              "      }\n",
              "    </script>\n",
              "  </div>\n",
              "\n",
              "\n",
              "<div id=\"df-f47d3ea5-2ad8-486f-b129-49476a01ff2a\">\n",
              "  <button class=\"colab-df-quickchart\" onclick=\"quickchart('df-f47d3ea5-2ad8-486f-b129-49476a01ff2a')\"\n",
              "            title=\"Suggest charts\"\n",
              "            style=\"display:none;\">\n",
              "\n",
              "<svg xmlns=\"http://www.w3.org/2000/svg\" height=\"24px\"viewBox=\"0 0 24 24\"\n",
              "     width=\"24px\">\n",
              "    <g>\n",
              "        <path d=\"M19 3H5c-1.1 0-2 .9-2 2v14c0 1.1.9 2 2 2h14c1.1 0 2-.9 2-2V5c0-1.1-.9-2-2-2zM9 17H7v-7h2v7zm4 0h-2V7h2v10zm4 0h-2v-4h2v4z\"/>\n",
              "    </g>\n",
              "</svg>\n",
              "  </button>\n",
              "\n",
              "<style>\n",
              "  .colab-df-quickchart {\n",
              "      --bg-color: #E8F0FE;\n",
              "      --fill-color: #1967D2;\n",
              "      --hover-bg-color: #E2EBFA;\n",
              "      --hover-fill-color: #174EA6;\n",
              "      --disabled-fill-color: #AAA;\n",
              "      --disabled-bg-color: #DDD;\n",
              "  }\n",
              "\n",
              "  [theme=dark] .colab-df-quickchart {\n",
              "      --bg-color: #3B4455;\n",
              "      --fill-color: #D2E3FC;\n",
              "      --hover-bg-color: #434B5C;\n",
              "      --hover-fill-color: #FFFFFF;\n",
              "      --disabled-bg-color: #3B4455;\n",
              "      --disabled-fill-color: #666;\n",
              "  }\n",
              "\n",
              "  .colab-df-quickchart {\n",
              "    background-color: var(--bg-color);\n",
              "    border: none;\n",
              "    border-radius: 50%;\n",
              "    cursor: pointer;\n",
              "    display: none;\n",
              "    fill: var(--fill-color);\n",
              "    height: 32px;\n",
              "    padding: 0;\n",
              "    width: 32px;\n",
              "  }\n",
              "\n",
              "  .colab-df-quickchart:hover {\n",
              "    background-color: var(--hover-bg-color);\n",
              "    box-shadow: 0 1px 2px rgba(60, 64, 67, 0.3), 0 1px 3px 1px rgba(60, 64, 67, 0.15);\n",
              "    fill: var(--button-hover-fill-color);\n",
              "  }\n",
              "\n",
              "  .colab-df-quickchart-complete:disabled,\n",
              "  .colab-df-quickchart-complete:disabled:hover {\n",
              "    background-color: var(--disabled-bg-color);\n",
              "    fill: var(--disabled-fill-color);\n",
              "    box-shadow: none;\n",
              "  }\n",
              "\n",
              "  .colab-df-spinner {\n",
              "    border: 2px solid var(--fill-color);\n",
              "    border-color: transparent;\n",
              "    border-bottom-color: var(--fill-color);\n",
              "    animation:\n",
              "      spin 1s steps(1) infinite;\n",
              "  }\n",
              "\n",
              "  @keyframes spin {\n",
              "    0% {\n",
              "      border-color: transparent;\n",
              "      border-bottom-color: var(--fill-color);\n",
              "      border-left-color: var(--fill-color);\n",
              "    }\n",
              "    20% {\n",
              "      border-color: transparent;\n",
              "      border-left-color: var(--fill-color);\n",
              "      border-top-color: var(--fill-color);\n",
              "    }\n",
              "    30% {\n",
              "      border-color: transparent;\n",
              "      border-left-color: var(--fill-color);\n",
              "      border-top-color: var(--fill-color);\n",
              "      border-right-color: var(--fill-color);\n",
              "    }\n",
              "    40% {\n",
              "      border-color: transparent;\n",
              "      border-right-color: var(--fill-color);\n",
              "      border-top-color: var(--fill-color);\n",
              "    }\n",
              "    60% {\n",
              "      border-color: transparent;\n",
              "      border-right-color: var(--fill-color);\n",
              "    }\n",
              "    80% {\n",
              "      border-color: transparent;\n",
              "      border-right-color: var(--fill-color);\n",
              "      border-bottom-color: var(--fill-color);\n",
              "    }\n",
              "    90% {\n",
              "      border-color: transparent;\n",
              "      border-bottom-color: var(--fill-color);\n",
              "    }\n",
              "  }\n",
              "</style>\n",
              "\n",
              "  <script>\n",
              "    async function quickchart(key) {\n",
              "      const quickchartButtonEl =\n",
              "        document.querySelector('#' + key + ' button');\n",
              "      quickchartButtonEl.disabled = true;  // To prevent multiple clicks.\n",
              "      quickchartButtonEl.classList.add('colab-df-spinner');\n",
              "      try {\n",
              "        const charts = await google.colab.kernel.invokeFunction(\n",
              "            'suggestCharts', [key], {});\n",
              "      } catch (error) {\n",
              "        console.error('Error during call to suggestCharts:', error);\n",
              "      }\n",
              "      quickchartButtonEl.classList.remove('colab-df-spinner');\n",
              "      quickchartButtonEl.classList.add('colab-df-quickchart-complete');\n",
              "    }\n",
              "    (() => {\n",
              "      let quickchartButtonEl =\n",
              "        document.querySelector('#df-f47d3ea5-2ad8-486f-b129-49476a01ff2a button');\n",
              "      quickchartButtonEl.style.display =\n",
              "        google.colab.kernel.accessAllowed ? 'block' : 'none';\n",
              "    })();\n",
              "  </script>\n",
              "</div>\n",
              "    </div>\n",
              "  </div>\n"
            ]
          },
          "metadata": {},
          "execution_count": 21
        }
      ],
      "source": [
        "import pandas as pd\n",
        "\n",
        "# Load the dataset into a DataFrame\n",
        "df = pd.read_csv(\"mushrooms.csv\")\n",
        "\n",
        "# Now you can proceed with the rest of your code...\n",
        "# For instance, the subsequent lines that handle encoding and handling missing values.\n",
        "\n",
        "#Ambil target\n",
        "target = df['class']\n",
        "\n",
        "#Merubah missing value menjadi modus\n",
        "df['stalk-root'].fillna(df['stalk-root'].mode()[0], inplace=True)\n",
        "\n",
        "#Merubah data kategorik kedalam bentuk angka\n",
        "encoder = LabelEncoder()\n",
        "df_encoded = df.iloc[:, 1:]\n",
        "cols = df_encoded.columns.values\n",
        "for col in cols:\n",
        "    # print(df[col].unique())\n",
        "    df_encoded[col] = encoder.fit_transform(df_encoded[col])\n",
        "\n",
        "target_encoded = encoder.fit_transform(target)\n",
        "\n",
        "df_encoded.head()\n"
      ]
    },
    {
      "cell_type": "markdown",
      "metadata": {
        "id": "QTiesA67TJps"
      },
      "source": [
        "##Klasifikasi:"
      ]
    },
    {
      "cell_type": "code",
      "execution_count": 22,
      "metadata": {
        "colab": {
          "base_uri": "https://localhost:8080/",
          "height": 1000
        },
        "id": "IbhKU76OlJB7",
        "outputId": "07f443b2-4f9f-4783-cffb-19f67fa45b02"
      },
      "outputs": [
        {
          "output_type": "stream",
          "name": "stderr",
          "text": [
            "Processing mutation_percent = 0.1:   7%|▋         | 1/15 [00:04<01:08,  4.86s/it]"
          ]
        },
        {
          "output_type": "stream",
          "name": "stdout",
          "text": [
            "pop shape\n",
            "(8, 11136)\n",
            "looping berapa kali\n",
            "4\n",
            "parent shape\n",
            "(4, 11136)\n"
          ]
        },
        {
          "output_type": "stream",
          "name": "stderr",
          "text": [
            "\rProcessing mutation_percent = 0.1:  13%|█▎        | 2/15 [00:10<01:10,  5.46s/it]"
          ]
        },
        {
          "output_type": "stream",
          "name": "stdout",
          "text": [
            "pop shape\n",
            "(8, 11136)\n",
            "looping berapa kali\n",
            "4\n",
            "parent shape\n",
            "(4, 11136)\n"
          ]
        },
        {
          "output_type": "stream",
          "name": "stderr",
          "text": [
            "\rProcessing mutation_percent = 0.1:  20%|██        | 3/15 [00:13<00:53,  4.44s/it]"
          ]
        },
        {
          "output_type": "stream",
          "name": "stdout",
          "text": [
            "pop shape\n",
            "(8, 11136)\n",
            "looping berapa kali\n",
            "4\n",
            "parent shape\n",
            "(4, 11136)\n"
          ]
        },
        {
          "output_type": "stream",
          "name": "stderr",
          "text": [
            "\rProcessing mutation_percent = 0.1:  27%|██▋       | 4/15 [00:16<00:42,  3.87s/it]"
          ]
        },
        {
          "output_type": "stream",
          "name": "stdout",
          "text": [
            "pop shape\n",
            "(8, 11136)\n",
            "looping berapa kali\n",
            "4\n",
            "parent shape\n",
            "(4, 11136)\n"
          ]
        },
        {
          "output_type": "stream",
          "name": "stderr",
          "text": [
            "\rProcessing mutation_percent = 0.1:  33%|███▎      | 5/15 [00:19<00:35,  3.52s/it]"
          ]
        },
        {
          "output_type": "stream",
          "name": "stdout",
          "text": [
            "pop shape\n",
            "(8, 11136)\n",
            "looping berapa kali\n",
            "4\n",
            "parent shape\n",
            "(4, 11136)\n"
          ]
        },
        {
          "output_type": "stream",
          "name": "stderr",
          "text": [
            "\rProcessing mutation_percent = 0.1:  40%|████      | 6/15 [00:23<00:30,  3.41s/it]"
          ]
        },
        {
          "output_type": "stream",
          "name": "stdout",
          "text": [
            "pop shape\n",
            "(8, 11136)\n",
            "looping berapa kali\n",
            "4\n",
            "parent shape\n",
            "(4, 11136)\n"
          ]
        },
        {
          "output_type": "stream",
          "name": "stderr",
          "text": [
            "\rProcessing mutation_percent = 0.1:  47%|████▋     | 7/15 [00:26<00:26,  3.33s/it]"
          ]
        },
        {
          "output_type": "stream",
          "name": "stdout",
          "text": [
            "pop shape\n",
            "(8, 11136)\n",
            "looping berapa kali\n",
            "4\n",
            "parent shape\n",
            "(4, 11136)\n"
          ]
        },
        {
          "output_type": "stream",
          "name": "stderr",
          "text": [
            "\rProcessing mutation_percent = 0.1:  53%|█████▎    | 8/15 [00:29<00:22,  3.18s/it]"
          ]
        },
        {
          "output_type": "stream",
          "name": "stdout",
          "text": [
            "pop shape\n",
            "(8, 11136)\n",
            "looping berapa kali\n",
            "4\n",
            "parent shape\n",
            "(4, 11136)\n"
          ]
        },
        {
          "output_type": "stream",
          "name": "stderr",
          "text": [
            "\rProcessing mutation_percent = 0.1:  60%|██████    | 9/15 [00:31<00:18,  3.01s/it]"
          ]
        },
        {
          "output_type": "stream",
          "name": "stdout",
          "text": [
            "pop shape\n",
            "(8, 11136)\n",
            "looping berapa kali\n",
            "4\n",
            "parent shape\n",
            "(4, 11136)\n"
          ]
        },
        {
          "output_type": "stream",
          "name": "stderr",
          "text": [
            "\rProcessing mutation_percent = 0.1:  67%|██████▋   | 10/15 [00:34<00:14,  2.94s/it]"
          ]
        },
        {
          "output_type": "stream",
          "name": "stdout",
          "text": [
            "pop shape\n",
            "(8, 11136)\n",
            "looping berapa kali\n",
            "4\n",
            "parent shape\n",
            "(4, 11136)\n"
          ]
        },
        {
          "output_type": "stream",
          "name": "stderr",
          "text": [
            "\rProcessing mutation_percent = 0.1:  73%|███████▎  | 11/15 [00:37<00:11,  2.95s/it]"
          ]
        },
        {
          "output_type": "stream",
          "name": "stdout",
          "text": [
            "pop shape\n",
            "(8, 11136)\n",
            "looping berapa kali\n",
            "4\n",
            "parent shape\n",
            "(4, 11136)\n"
          ]
        },
        {
          "output_type": "stream",
          "name": "stderr",
          "text": [
            "\rProcessing mutation_percent = 0.1:  80%|████████  | 12/15 [00:40<00:09,  3.02s/it]"
          ]
        },
        {
          "output_type": "stream",
          "name": "stdout",
          "text": [
            "pop shape\n",
            "(8, 11136)\n",
            "looping berapa kali\n",
            "4\n",
            "parent shape\n",
            "(4, 11136)\n"
          ]
        },
        {
          "output_type": "stream",
          "name": "stderr",
          "text": [
            "\rProcessing mutation_percent = 0.1:  87%|████████▋ | 13/15 [00:43<00:06,  3.02s/it]"
          ]
        },
        {
          "output_type": "stream",
          "name": "stdout",
          "text": [
            "pop shape\n",
            "(8, 11136)\n",
            "looping berapa kali\n",
            "4\n",
            "parent shape\n",
            "(4, 11136)\n"
          ]
        },
        {
          "output_type": "stream",
          "name": "stderr",
          "text": [
            "\rProcessing mutation_percent = 0.1:  93%|█████████▎| 14/15 [00:46<00:02,  2.93s/it]"
          ]
        },
        {
          "output_type": "stream",
          "name": "stdout",
          "text": [
            "pop shape\n",
            "(8, 11136)\n",
            "looping berapa kali\n",
            "4\n",
            "parent shape\n",
            "(4, 11136)\n"
          ]
        },
        {
          "output_type": "stream",
          "name": "stderr",
          "text": [
            "                                                                                  "
          ]
        },
        {
          "output_type": "stream",
          "name": "stdout",
          "text": [
            "pop shape\n",
            "(8, 11136)\n",
            "looping berapa kali\n",
            "4\n",
            "parent shape\n",
            "(4, 11136)\n"
          ]
        },
        {
          "output_type": "stream",
          "name": "stderr",
          "text": [
            "Processing mutation_percent = 0.2:   7%|▋         | 1/15 [00:06<01:30,  6.48s/it]"
          ]
        },
        {
          "output_type": "stream",
          "name": "stdout",
          "text": [
            "pop shape\n",
            "(8, 11136)\n",
            "looping berapa kali\n",
            "4\n",
            "parent shape\n",
            "(4, 11136)\n"
          ]
        },
        {
          "output_type": "stream",
          "name": "stderr",
          "text": [
            "\rProcessing mutation_percent = 0.2:  13%|█▎        | 2/15 [00:10<01:05,  5.07s/it]"
          ]
        },
        {
          "output_type": "stream",
          "name": "stdout",
          "text": [
            "pop shape\n",
            "(8, 11136)\n",
            "looping berapa kali\n",
            "4\n",
            "parent shape\n",
            "(4, 11136)\n"
          ]
        },
        {
          "output_type": "stream",
          "name": "stderr",
          "text": [
            "\rProcessing mutation_percent = 0.2:  20%|██        | 3/15 [00:13<00:48,  4.03s/it]"
          ]
        },
        {
          "output_type": "stream",
          "name": "stdout",
          "text": [
            "pop shape\n",
            "(8, 11136)\n",
            "looping berapa kali\n",
            "4\n",
            "parent shape\n",
            "(4, 11136)\n"
          ]
        },
        {
          "output_type": "stream",
          "name": "stderr",
          "text": [
            "\rProcessing mutation_percent = 0.2:  27%|██▋       | 4/15 [00:16<00:40,  3.66s/it]"
          ]
        },
        {
          "output_type": "stream",
          "name": "stdout",
          "text": [
            "pop shape\n",
            "(8, 11136)\n",
            "looping berapa kali\n",
            "4\n",
            "parent shape\n",
            "(4, 11136)\n"
          ]
        },
        {
          "output_type": "stream",
          "name": "stderr",
          "text": [
            "\rProcessing mutation_percent = 0.2:  33%|███▎      | 5/15 [00:19<00:35,  3.50s/it]"
          ]
        },
        {
          "output_type": "stream",
          "name": "stdout",
          "text": [
            "pop shape\n",
            "(8, 11136)\n",
            "looping berapa kali\n",
            "4\n",
            "parent shape\n",
            "(4, 11136)\n"
          ]
        },
        {
          "output_type": "stream",
          "name": "stderr",
          "text": []
        },
        {
          "output_type": "error",
          "ename": "KeyboardInterrupt",
          "evalue": "ignored",
          "traceback": [
            "\u001b[0;31m---------------------------------------------------------------------------\u001b[0m",
            "\u001b[0;31mKeyboardInterrupt\u001b[0m                         Traceback (most recent call last)",
            "\u001b[0;32m<ipython-input-22-abd01926afab>\u001b[0m in \u001b[0;36m<cell line: 32>\u001b[0;34m()\u001b[0m\n\u001b[1;32m     43\u001b[0m \u001b[0;34m\u001b[0m\u001b[0m\n\u001b[1;32m     44\u001b[0m     \u001b[0;31m# fitness of the population\u001b[0m\u001b[0;34m\u001b[0m\u001b[0;34m\u001b[0m\u001b[0m\n\u001b[0;32m---> 45\u001b[0;31m     \u001b[0mfit\u001b[0m \u001b[0;34m=\u001b[0m \u001b[0mfitness\u001b[0m\u001b[0;34m(\u001b[0m\u001b[0mx_train\u001b[0m\u001b[0;34m,\u001b[0m \u001b[0my_train\u001b[0m\u001b[0;34m,\u001b[0m \u001b[0mweights_mat\u001b[0m\u001b[0;34m,\u001b[0m \u001b[0mactivation\u001b[0m\u001b[0;34m=\u001b[0m\u001b[0msigmoid\u001b[0m\u001b[0;34m)\u001b[0m\u001b[0;34m\u001b[0m\u001b[0;34m\u001b[0m\u001b[0m\n\u001b[0m\u001b[1;32m     46\u001b[0m \u001b[0;34m\u001b[0m\u001b[0m\n\u001b[1;32m     47\u001b[0m     \u001b[0;31m# assign first fitness to the array\u001b[0m\u001b[0;34m\u001b[0m\u001b[0;34m\u001b[0m\u001b[0m\n",
            "\u001b[0;32m<ipython-input-19-8e2c67ff1bd9>\u001b[0m in \u001b[0;36mfitness\u001b[0;34m(x, y_hat, weights, activation)\u001b[0m\n\u001b[1;32m     25\u001b[0m     \u001b[0maccuracy\u001b[0m \u001b[0;34m=\u001b[0m \u001b[0mnp\u001b[0m\u001b[0;34m.\u001b[0m\u001b[0mempty\u001b[0m\u001b[0;34m(\u001b[0m\u001b[0mshape\u001b[0m\u001b[0;34m=\u001b[0m\u001b[0;34m(\u001b[0m\u001b[0mweights\u001b[0m\u001b[0;34m.\u001b[0m\u001b[0mshape\u001b[0m\u001b[0;34m[\u001b[0m\u001b[0;36m0\u001b[0m\u001b[0;34m]\u001b[0m\u001b[0;34m)\u001b[0m\u001b[0;34m)\u001b[0m\u001b[0;34m\u001b[0m\u001b[0;34m\u001b[0m\u001b[0m\n\u001b[1;32m     26\u001b[0m     \u001b[0;32mfor\u001b[0m \u001b[0midx\u001b[0m \u001b[0;32min\u001b[0m \u001b[0mrange\u001b[0m\u001b[0;34m(\u001b[0m\u001b[0mweights\u001b[0m\u001b[0;34m.\u001b[0m\u001b[0mshape\u001b[0m\u001b[0;34m[\u001b[0m\u001b[0;36m0\u001b[0m\u001b[0;34m]\u001b[0m\u001b[0;34m)\u001b[0m\u001b[0;34m:\u001b[0m\u001b[0;34m\u001b[0m\u001b[0;34m\u001b[0m\u001b[0m\n\u001b[0;32m---> 27\u001b[0;31m         \u001b[0maccuracy\u001b[0m\u001b[0;34m[\u001b[0m\u001b[0midx\u001b[0m\u001b[0;34m]\u001b[0m\u001b[0;34m,\u001b[0m \u001b[0m_\u001b[0m \u001b[0;34m=\u001b[0m \u001b[0mpredict\u001b[0m\u001b[0;34m(\u001b[0m\u001b[0mx\u001b[0m\u001b[0;34m,\u001b[0m \u001b[0my_hat\u001b[0m\u001b[0;34m,\u001b[0m \u001b[0mweights\u001b[0m\u001b[0;34m[\u001b[0m\u001b[0midx\u001b[0m\u001b[0;34m,\u001b[0m \u001b[0;34m:\u001b[0m\u001b[0;34m]\u001b[0m\u001b[0;34m,\u001b[0m \u001b[0mactivation\u001b[0m\u001b[0;34m)\u001b[0m\u001b[0;34m\u001b[0m\u001b[0;34m\u001b[0m\u001b[0m\n\u001b[0m\u001b[1;32m     28\u001b[0m     \u001b[0;32mreturn\u001b[0m \u001b[0maccuracy\u001b[0m\u001b[0;34m\u001b[0m\u001b[0;34m\u001b[0m\u001b[0m\n\u001b[1;32m     29\u001b[0m \u001b[0;34m\u001b[0m\u001b[0m\n",
            "\u001b[0;32m<ipython-input-19-8e2c67ff1bd9>\u001b[0m in \u001b[0;36mpredict\u001b[0;34m(x, y_hat, weights, activation)\u001b[0m\n\u001b[1;32m     17\u001b[0m         \u001b[0;32mfor\u001b[0m \u001b[0mcurr_weights\u001b[0m \u001b[0;32min\u001b[0m \u001b[0mweights\u001b[0m\u001b[0;34m:\u001b[0m\u001b[0;34m\u001b[0m\u001b[0;34m\u001b[0m\u001b[0m\n\u001b[1;32m     18\u001b[0m             \u001b[0mr1\u001b[0m \u001b[0;34m=\u001b[0m \u001b[0mforward\u001b[0m\u001b[0;34m(\u001b[0m\u001b[0mr1\u001b[0m\u001b[0;34m,\u001b[0m \u001b[0mcurr_weights\u001b[0m\u001b[0;34m,\u001b[0m \u001b[0mactivation\u001b[0m\u001b[0;34m)\u001b[0m\u001b[0;34m\u001b[0m\u001b[0;34m\u001b[0m\u001b[0m\n\u001b[0;32m---> 19\u001b[0;31m         \u001b[0mpredictions\u001b[0m\u001b[0;34m[\u001b[0m\u001b[0midx\u001b[0m\u001b[0;34m]\u001b[0m \u001b[0;34m=\u001b[0m \u001b[0mnp\u001b[0m\u001b[0;34m.\u001b[0m\u001b[0mwhere\u001b[0m\u001b[0;34m(\u001b[0m\u001b[0mr1\u001b[0m \u001b[0;34m==\u001b[0m \u001b[0mnp\u001b[0m\u001b[0;34m.\u001b[0m\u001b[0mmax\u001b[0m\u001b[0;34m(\u001b[0m\u001b[0mr1\u001b[0m\u001b[0;34m)\u001b[0m\u001b[0;34m)\u001b[0m\u001b[0;34m[\u001b[0m\u001b[0;36m0\u001b[0m\u001b[0;34m]\u001b[0m\u001b[0;34m[\u001b[0m\u001b[0;36m0\u001b[0m\u001b[0;34m]\u001b[0m\u001b[0;34m\u001b[0m\u001b[0;34m\u001b[0m\u001b[0m\n\u001b[0m\u001b[1;32m     20\u001b[0m \u001b[0;34m\u001b[0m\u001b[0m\n\u001b[1;32m     21\u001b[0m     \u001b[0maccuracy\u001b[0m \u001b[0;34m=\u001b[0m \u001b[0maccuracy_fn\u001b[0m\u001b[0;34m(\u001b[0m\u001b[0mpredictions\u001b[0m\u001b[0;34m,\u001b[0m \u001b[0my_hat\u001b[0m\u001b[0;34m)\u001b[0m\u001b[0;34m\u001b[0m\u001b[0;34m\u001b[0m\u001b[0m\n",
            "\u001b[0;32m/usr/local/lib/python3.10/dist-packages/numpy/core/overrides.py\u001b[0m in \u001b[0;36mwhere\u001b[0;34m(*args, **kwargs)\u001b[0m\n",
            "\u001b[0;31mKeyboardInterrupt\u001b[0m: "
          ]
        }
      ],
      "source": [
        "#Split data train dan test\n",
        "x_train, x_test, y_train, y_test = train_test_split(df_encoded.to_numpy(), target_encoded, test_size = 0.20, random_state = 42)\n",
        "\n",
        "#Parameter GA\n",
        "solution_per_population = 8\n",
        "num_parents_mating = 4\n",
        "num_generations = 15\n",
        "\n",
        "input_shape = x_train.shape[1]\n",
        "output_shape = len(np.unique(y_train))\n",
        "\n",
        "# inisiasi weight\n",
        "initial_weights = []\n",
        "for curr_sol in np.arange(0, solution_per_population):\n",
        "\n",
        "    w1 = np.random.uniform(low=-0.1, high=0.1, size=(input_shape, 128))\n",
        "    w2 = np.random.uniform(low=-0.1, high=0.1, size=(128, 64))\n",
        "    w3 = np.random.uniform(low=-0.1, high=0.1, size=(64, output_shape))\n",
        "\n",
        "    initial_weights.append(np.array([w1, w2, w3]))\n",
        "\n",
        "weights_mat = np.array(initial_weights)\n",
        "weights_vector = mat_to_vector(weights_mat)\n",
        "\n",
        "#Parameter penilaian\n",
        "error_rate = []\n",
        "accu_uyeh = []\n",
        "best_outputs = []\n",
        "accuracies = np.empty(shape=(num_generations))\n",
        "\n",
        "# Pengujian model\n",
        "for i in range(1,11):\n",
        "  mutation_percent = i/10\n",
        "\n",
        "  weights_mat = np.array(initial_weights)\n",
        "  weights_vector = mat_to_vector(weights_mat)\n",
        "\n",
        "  accuracies = np.empty(shape=(num_generations))\n",
        "  for generation in tqdm(range(num_generations), desc=\"Processing mutation_percent = \" + str(i/10), leave=False):\n",
        "\n",
        "    # vector to matrix\n",
        "    weights_mat = vector_to_mat(weights_vector, weights_mat)\n",
        "\n",
        "    # fitness of the population\n",
        "    fit = fitness(x_train, y_train, weights_mat, activation=sigmoid)\n",
        "\n",
        "    # assign first fitness to the array\n",
        "    accuracies[generation] = fit[0]\n",
        "\n",
        "    # selecting mating parents from pool\n",
        "    parents = mating_pool(weights_vector, fit.copy(), num_parents_mating)\n",
        "\n",
        "    # generate new population using crossover\n",
        "    offspring_crossover = crossover(parents, offspring_size=(weights_vector.shape[0]-parents.shape[0], weights_vector.shape[1]))\n",
        "\n",
        "    # adding mutation to the population\n",
        "    offspring_mutation = mutation(offspring_crossover, mutation_percent=mutation_percent)\n",
        "\n",
        "    # new population combining parents of crossver and mut\n",
        "    weights_vector[0:parents.shape[0], :] = parents\n",
        "    weights_vector[parents.shape[0]:, :] = offspring_mutation\n",
        "\n",
        "  weights_mat = vector_to_mat(weights_vector, weights_mat)\n",
        "  best_weights = weights_mat [0, :]\n",
        "  acc, predictions = predict(x_train, y_train, best_weights, sigmoid)\n",
        "  error_rate.append(np.mean(predictions != y_train))\n",
        "  accu_uyeh.append(acc)\n",
        "\n",
        "#Plot\n",
        "xDex = []\n",
        "for i in range(1,11):\n",
        "  xDex.append(i/10)\n",
        "\n",
        "plt.plot(xDex, error_rate, color='blue', linestyle='dashed', marker='o', markerfacecolor='red', markersize=10)\n",
        "plt.title('Error Rate vs. Mutation Percent')\n",
        "plt.xlabel('Mutation Percent')\n",
        "plt.ylabel('Error Rate')\n",
        "plt.show()"
      ]
    },
    {
      "cell_type": "code",
      "execution_count": 23,
      "metadata": {
        "colab": {
          "base_uri": "https://localhost:8080/"
        },
        "id": "xXwM4nUtnAvS",
        "outputId": "3500d5fd-dd27-4d6d-dc75-f0b7bf0395af"
      },
      "outputs": [
        {
          "output_type": "execute_result",
          "data": {
            "text/plain": [
              "(4, 11136)"
            ]
          },
          "metadata": {},
          "execution_count": 23
        }
      ],
      "source": [
        "(weights_vector.shape[0]-parents.shape[0], weights_vector.shape[1])"
      ]
    },
    {
      "cell_type": "code",
      "execution_count": 24,
      "metadata": {
        "colab": {
          "base_uri": "https://localhost:8080/"
        },
        "id": "i5cKyn7pnEt-",
        "outputId": "70b08a91-a5d0-4cba-dbf8-19ed0ff32014"
      },
      "outputs": [
        {
          "output_type": "execute_result",
          "data": {
            "text/plain": [
              "(8, 11136)"
            ]
          },
          "metadata": {},
          "execution_count": 24
        }
      ],
      "source": [
        "weights_vector.shape"
      ]
    },
    {
      "cell_type": "markdown",
      "metadata": {
        "id": "V2Ha6gmFTwMy"
      },
      "source": [
        "###Membuat model dengan mutation_percent terbaik:"
      ]
    },
    {
      "cell_type": "code",
      "execution_count": 25,
      "metadata": {
        "colab": {
          "base_uri": "https://localhost:8080/",
          "height": 1000
        },
        "id": "I7eyltnN-lgm",
        "outputId": "6bcbed3b-9163-4089-e6f6-518b5fc07516"
      },
      "outputs": [
        {
          "output_type": "stream",
          "name": "stderr",
          "text": [
            "  5%|▌         | 1/20 [00:02<00:54,  2.85s/it]"
          ]
        },
        {
          "output_type": "stream",
          "name": "stdout",
          "text": [
            "pop shape\n",
            "(8, 11136)\n",
            "looping berapa kali\n",
            "4\n",
            "parent shape\n",
            "(4, 11136)\n"
          ]
        },
        {
          "output_type": "stream",
          "name": "stderr",
          "text": [
            "\r 10%|█         | 2/20 [00:05<00:52,  2.89s/it]"
          ]
        },
        {
          "output_type": "stream",
          "name": "stdout",
          "text": [
            "pop shape\n",
            "(8, 11136)\n",
            "looping berapa kali\n",
            "4\n",
            "parent shape\n",
            "(4, 11136)\n"
          ]
        },
        {
          "output_type": "stream",
          "name": "stderr",
          "text": [
            "\r 15%|█▌        | 3/20 [00:08<00:49,  2.90s/it]"
          ]
        },
        {
          "output_type": "stream",
          "name": "stdout",
          "text": [
            "pop shape\n",
            "(8, 11136)\n",
            "looping berapa kali\n",
            "4\n",
            "parent shape\n",
            "(4, 11136)\n"
          ]
        },
        {
          "output_type": "stream",
          "name": "stderr",
          "text": [
            "\r 20%|██        | 4/20 [00:11<00:48,  3.01s/it]"
          ]
        },
        {
          "output_type": "stream",
          "name": "stdout",
          "text": [
            "pop shape\n",
            "(8, 11136)\n",
            "looping berapa kali\n",
            "4\n",
            "parent shape\n",
            "(4, 11136)\n"
          ]
        },
        {
          "output_type": "stream",
          "name": "stderr",
          "text": [
            "\r 25%|██▌       | 5/20 [00:15<00:47,  3.14s/it]"
          ]
        },
        {
          "output_type": "stream",
          "name": "stdout",
          "text": [
            "pop shape\n",
            "(8, 11136)\n",
            "looping berapa kali\n",
            "4\n",
            "parent shape\n",
            "(4, 11136)\n"
          ]
        },
        {
          "output_type": "stream",
          "name": "stderr",
          "text": [
            "\r 30%|███       | 6/20 [00:18<00:46,  3.30s/it]"
          ]
        },
        {
          "output_type": "stream",
          "name": "stdout",
          "text": [
            "pop shape\n",
            "(8, 11136)\n",
            "looping berapa kali\n",
            "4\n",
            "parent shape\n",
            "(4, 11136)\n"
          ]
        },
        {
          "output_type": "stream",
          "name": "stderr",
          "text": [
            "\r 35%|███▌      | 7/20 [00:21<00:39,  3.07s/it]"
          ]
        },
        {
          "output_type": "stream",
          "name": "stdout",
          "text": [
            "pop shape\n",
            "(8, 11136)\n",
            "looping berapa kali\n",
            "4\n",
            "parent shape\n",
            "(4, 11136)\n"
          ]
        },
        {
          "output_type": "stream",
          "name": "stderr",
          "text": [
            "\r 40%|████      | 8/20 [00:24<00:36,  3.00s/it]"
          ]
        },
        {
          "output_type": "stream",
          "name": "stdout",
          "text": [
            "pop shape\n",
            "(8, 11136)\n",
            "looping berapa kali\n",
            "4\n",
            "parent shape\n",
            "(4, 11136)\n"
          ]
        },
        {
          "output_type": "stream",
          "name": "stderr",
          "text": [
            "\r 45%|████▌     | 9/20 [00:29<00:42,  3.84s/it]"
          ]
        },
        {
          "output_type": "stream",
          "name": "stdout",
          "text": [
            "pop shape\n",
            "(8, 11136)\n",
            "looping berapa kali\n",
            "4\n",
            "parent shape\n",
            "(4, 11136)\n"
          ]
        },
        {
          "output_type": "stream",
          "name": "stderr",
          "text": [
            "\r 50%|█████     | 10/20 [00:32<00:35,  3.57s/it]"
          ]
        },
        {
          "output_type": "stream",
          "name": "stdout",
          "text": [
            "pop shape\n",
            "(8, 11136)\n",
            "looping berapa kali\n",
            "4\n",
            "parent shape\n",
            "(4, 11136)\n"
          ]
        },
        {
          "output_type": "stream",
          "name": "stderr",
          "text": [
            "\r 55%|█████▌    | 11/20 [00:35<00:30,  3.34s/it]"
          ]
        },
        {
          "output_type": "stream",
          "name": "stdout",
          "text": [
            "pop shape\n",
            "(8, 11136)\n",
            "looping berapa kali\n",
            "4\n",
            "parent shape\n",
            "(4, 11136)\n"
          ]
        },
        {
          "output_type": "stream",
          "name": "stderr",
          "text": [
            "\r 60%|██████    | 12/20 [00:38<00:25,  3.18s/it]"
          ]
        },
        {
          "output_type": "stream",
          "name": "stdout",
          "text": [
            "pop shape\n",
            "(8, 11136)\n",
            "looping berapa kali\n",
            "4\n",
            "parent shape\n",
            "(4, 11136)\n"
          ]
        },
        {
          "output_type": "stream",
          "name": "stderr",
          "text": [
            "\r 65%|██████▌   | 13/20 [00:41<00:22,  3.15s/it]"
          ]
        },
        {
          "output_type": "stream",
          "name": "stdout",
          "text": [
            "pop shape\n",
            "(8, 11136)\n",
            "looping berapa kali\n",
            "4\n",
            "parent shape\n",
            "(4, 11136)\n"
          ]
        },
        {
          "output_type": "stream",
          "name": "stderr",
          "text": [
            "\r 70%|███████   | 14/20 [00:44<00:18,  3.11s/it]"
          ]
        },
        {
          "output_type": "stream",
          "name": "stdout",
          "text": [
            "pop shape\n",
            "(8, 11136)\n",
            "looping berapa kali\n",
            "4\n",
            "parent shape\n",
            "(4, 11136)\n"
          ]
        },
        {
          "output_type": "stream",
          "name": "stderr",
          "text": [
            " 75%|███████▌  | 15/20 [00:47<00:15,  3.18s/it]"
          ]
        },
        {
          "output_type": "stream",
          "name": "stdout",
          "text": [
            "pop shape\n",
            "(8, 11136)\n",
            "looping berapa kali\n",
            "4\n",
            "parent shape\n",
            "(4, 11136)\n"
          ]
        },
        {
          "output_type": "stream",
          "name": "stderr",
          "text": [
            "\n"
          ]
        },
        {
          "output_type": "error",
          "ename": "KeyboardInterrupt",
          "evalue": "ignored",
          "traceback": [
            "\u001b[0;31m---------------------------------------------------------------------------\u001b[0m",
            "\u001b[0;31mKeyboardInterrupt\u001b[0m                         Traceback (most recent call last)",
            "\u001b[0;32m<ipython-input-25-900e4e2e6d38>\u001b[0m in \u001b[0;36m<cell line: 30>\u001b[0;34m()\u001b[0m\n\u001b[1;32m     34\u001b[0m \u001b[0;34m\u001b[0m\u001b[0m\n\u001b[1;32m     35\u001b[0m     \u001b[0;31m# fitness of the population\u001b[0m\u001b[0;34m\u001b[0m\u001b[0;34m\u001b[0m\u001b[0m\n\u001b[0;32m---> 36\u001b[0;31m     \u001b[0mfit\u001b[0m \u001b[0;34m=\u001b[0m \u001b[0mfitness\u001b[0m\u001b[0;34m(\u001b[0m\u001b[0mx_train\u001b[0m\u001b[0;34m,\u001b[0m \u001b[0my_train\u001b[0m\u001b[0;34m,\u001b[0m \u001b[0mweights_mat\u001b[0m\u001b[0;34m,\u001b[0m \u001b[0mactivation\u001b[0m\u001b[0;34m=\u001b[0m\u001b[0msigmoid\u001b[0m\u001b[0;34m)\u001b[0m\u001b[0;34m\u001b[0m\u001b[0;34m\u001b[0m\u001b[0m\n\u001b[0m\u001b[1;32m     37\u001b[0m \u001b[0;34m\u001b[0m\u001b[0m\n\u001b[1;32m     38\u001b[0m     \u001b[0;31m# assign first fitness to the array\u001b[0m\u001b[0;34m\u001b[0m\u001b[0;34m\u001b[0m\u001b[0m\n",
            "\u001b[0;32m<ipython-input-19-8e2c67ff1bd9>\u001b[0m in \u001b[0;36mfitness\u001b[0;34m(x, y_hat, weights, activation)\u001b[0m\n\u001b[1;32m     25\u001b[0m     \u001b[0maccuracy\u001b[0m \u001b[0;34m=\u001b[0m \u001b[0mnp\u001b[0m\u001b[0;34m.\u001b[0m\u001b[0mempty\u001b[0m\u001b[0;34m(\u001b[0m\u001b[0mshape\u001b[0m\u001b[0;34m=\u001b[0m\u001b[0;34m(\u001b[0m\u001b[0mweights\u001b[0m\u001b[0;34m.\u001b[0m\u001b[0mshape\u001b[0m\u001b[0;34m[\u001b[0m\u001b[0;36m0\u001b[0m\u001b[0;34m]\u001b[0m\u001b[0;34m)\u001b[0m\u001b[0;34m)\u001b[0m\u001b[0;34m\u001b[0m\u001b[0;34m\u001b[0m\u001b[0m\n\u001b[1;32m     26\u001b[0m     \u001b[0;32mfor\u001b[0m \u001b[0midx\u001b[0m \u001b[0;32min\u001b[0m \u001b[0mrange\u001b[0m\u001b[0;34m(\u001b[0m\u001b[0mweights\u001b[0m\u001b[0;34m.\u001b[0m\u001b[0mshape\u001b[0m\u001b[0;34m[\u001b[0m\u001b[0;36m0\u001b[0m\u001b[0;34m]\u001b[0m\u001b[0;34m)\u001b[0m\u001b[0;34m:\u001b[0m\u001b[0;34m\u001b[0m\u001b[0;34m\u001b[0m\u001b[0m\n\u001b[0;32m---> 27\u001b[0;31m         \u001b[0maccuracy\u001b[0m\u001b[0;34m[\u001b[0m\u001b[0midx\u001b[0m\u001b[0;34m]\u001b[0m\u001b[0;34m,\u001b[0m \u001b[0m_\u001b[0m \u001b[0;34m=\u001b[0m \u001b[0mpredict\u001b[0m\u001b[0;34m(\u001b[0m\u001b[0mx\u001b[0m\u001b[0;34m,\u001b[0m \u001b[0my_hat\u001b[0m\u001b[0;34m,\u001b[0m \u001b[0mweights\u001b[0m\u001b[0;34m[\u001b[0m\u001b[0midx\u001b[0m\u001b[0;34m,\u001b[0m \u001b[0;34m:\u001b[0m\u001b[0;34m]\u001b[0m\u001b[0;34m,\u001b[0m \u001b[0mactivation\u001b[0m\u001b[0;34m)\u001b[0m\u001b[0;34m\u001b[0m\u001b[0;34m\u001b[0m\u001b[0m\n\u001b[0m\u001b[1;32m     28\u001b[0m     \u001b[0;32mreturn\u001b[0m \u001b[0maccuracy\u001b[0m\u001b[0;34m\u001b[0m\u001b[0;34m\u001b[0m\u001b[0m\n\u001b[1;32m     29\u001b[0m \u001b[0;34m\u001b[0m\u001b[0m\n",
            "\u001b[0;32m<ipython-input-19-8e2c67ff1bd9>\u001b[0m in \u001b[0;36mpredict\u001b[0;34m(x, y_hat, weights, activation)\u001b[0m\n\u001b[1;32m     17\u001b[0m         \u001b[0;32mfor\u001b[0m \u001b[0mcurr_weights\u001b[0m \u001b[0;32min\u001b[0m \u001b[0mweights\u001b[0m\u001b[0;34m:\u001b[0m\u001b[0;34m\u001b[0m\u001b[0;34m\u001b[0m\u001b[0m\n\u001b[1;32m     18\u001b[0m             \u001b[0mr1\u001b[0m \u001b[0;34m=\u001b[0m \u001b[0mforward\u001b[0m\u001b[0;34m(\u001b[0m\u001b[0mr1\u001b[0m\u001b[0;34m,\u001b[0m \u001b[0mcurr_weights\u001b[0m\u001b[0;34m,\u001b[0m \u001b[0mactivation\u001b[0m\u001b[0;34m)\u001b[0m\u001b[0;34m\u001b[0m\u001b[0;34m\u001b[0m\u001b[0m\n\u001b[0;32m---> 19\u001b[0;31m         \u001b[0mpredictions\u001b[0m\u001b[0;34m[\u001b[0m\u001b[0midx\u001b[0m\u001b[0;34m]\u001b[0m \u001b[0;34m=\u001b[0m \u001b[0mnp\u001b[0m\u001b[0;34m.\u001b[0m\u001b[0mwhere\u001b[0m\u001b[0;34m(\u001b[0m\u001b[0mr1\u001b[0m \u001b[0;34m==\u001b[0m \u001b[0mnp\u001b[0m\u001b[0;34m.\u001b[0m\u001b[0mmax\u001b[0m\u001b[0;34m(\u001b[0m\u001b[0mr1\u001b[0m\u001b[0;34m)\u001b[0m\u001b[0;34m)\u001b[0m\u001b[0;34m[\u001b[0m\u001b[0;36m0\u001b[0m\u001b[0;34m]\u001b[0m\u001b[0;34m[\u001b[0m\u001b[0;36m0\u001b[0m\u001b[0;34m]\u001b[0m\u001b[0;34m\u001b[0m\u001b[0;34m\u001b[0m\u001b[0m\n\u001b[0m\u001b[1;32m     20\u001b[0m \u001b[0;34m\u001b[0m\u001b[0m\n\u001b[1;32m     21\u001b[0m     \u001b[0maccuracy\u001b[0m \u001b[0;34m=\u001b[0m \u001b[0maccuracy_fn\u001b[0m\u001b[0;34m(\u001b[0m\u001b[0mpredictions\u001b[0m\u001b[0;34m,\u001b[0m \u001b[0my_hat\u001b[0m\u001b[0;34m)\u001b[0m\u001b[0;34m\u001b[0m\u001b[0;34m\u001b[0m\u001b[0m\n",
            "\u001b[0;32m/usr/local/lib/python3.10/dist-packages/numpy/core/overrides.py\u001b[0m in \u001b[0;36mwhere\u001b[0;34m(*args, **kwargs)\u001b[0m\n",
            "\u001b[0;31mKeyboardInterrupt\u001b[0m: "
          ]
        }
      ],
      "source": [
        "#Split data train dan test\n",
        "x_train, x_test, y_train, y_test = train_test_split(df_encoded.to_numpy(), target_encoded, test_size = 0.20, random_state = 42)\n",
        "\n",
        "# Buat model dengan mutation_percent 0.1\n",
        "solution_per_population = 8\n",
        "num_parents_mating = 4\n",
        "num_generations = 20\n",
        "mutation_percent = 0.1\n",
        "\n",
        "input_shape = x_train.shape[1]\n",
        "output_shape = len(np.unique(y_train))\n",
        "\n",
        "# inisiasi weight\n",
        "initial_weights = []\n",
        "for curr_sol in np.arange(0, solution_per_population):\n",
        "\n",
        "    w1 = np.random.uniform(low=-0.1, high=0.1, size=(input_shape, 128))\n",
        "    w2 = np.random.uniform(low=-0.1, high=0.1, size=(128, 64))\n",
        "    w3 = np.random.uniform(low=-0.1, high=0.1,size=(64, output_shape))\n",
        "\n",
        "    initial_weights.append(np.array([w1, w2, w3]))\n",
        "\n",
        "weights_mat = np.array(initial_weights)\n",
        "weights_vector = mat_to_vector(weights_mat)\n",
        "\n",
        "best_outputs = []\n",
        "accuracies = np.empty(shape=(num_generations))\n",
        "\n",
        "# training\n",
        "for generation in tqdm(range(num_generations)):\n",
        "\n",
        "    # vector to matrix\n",
        "    weights_mat = vector_to_mat(weights_vector, weights_mat)\n",
        "\n",
        "    # fitness of the population\n",
        "    fit = fitness(x_train, y_train, weights_mat, activation=sigmoid)\n",
        "\n",
        "    # assign first fitness to the array\n",
        "    accuracies[generation] = fit[0]\n",
        "\n",
        "    # selecting mating parents from pool\n",
        "    parents = mating_pool(weights_vector, fit.copy(), num_parents_mating)\n",
        "\n",
        "    # generate new population using crossover\n",
        "    offspring_crossover = crossover(parents, offspring_size=(weights_vector.shape[0]-parents.shape[0], weights_vector.shape[1]))\n",
        "\n",
        "    # adding mutation to the population\n",
        "    offspring_mutation = mutation(offspring_crossover, mutation_percent=mutation_percent)\n",
        "\n",
        "    # new population combining parents of crossver and mut\n",
        "    weights_vector[0:parents.shape[0], :] = parents\n",
        "    weights_vector[parents.shape[0]:, :] = offspring_mutation\n",
        "\n",
        "weights_mat = vector_to_mat(weights_vector, weights_mat)\n",
        "best_weights = weights_mat [0, :]\n",
        "acc, predictions = predict(x_train, y_train, best_weights, sigmoid)\n",
        "print(\"Accuracy of the best solution is : \", acc)"
      ]
    },
    {
      "cell_type": "markdown",
      "metadata": {
        "id": "ev85oVg7T_Gx"
      },
      "source": [
        "###Plot Fitnes setiap iterasinya:"
      ]
    },
    {
      "cell_type": "code",
      "execution_count": 26,
      "metadata": {
        "colab": {
          "base_uri": "https://localhost:8080/",
          "height": 461
        },
        "id": "HPY0WZI7-lgq",
        "outputId": "09d1ae63-856e-4d47-dd9f-9c82a77d9d6c"
      },
      "outputs": [
        {
          "output_type": "display_data",
          "data": {
            "text/plain": [
              "<Figure size 640x480 with 1 Axes>"
            ],
            "image/png": "[encoded data removed]"
          },
          "metadata": {}
        }
      ],
      "source": [
        "plt.plot(accuracies)\n",
        "plt.xlabel(\"Iteration\", fontsize=15)\n",
        "plt.ylabel(\"Fitness\", fontsize=15)\n",
        "plt.xticks(np.arange(0, num_generations+1, 100))\n",
        "plt.yticks(np.arange(0, 1, 0.1))\n",
        "plt.show()"
      ]
    },
    {
      "cell_type": "markdown",
      "metadata": {
        "id": "BSJT1WYRUJM6"
      },
      "source": [
        "###Cunfusion Matrix & Classification Report:"
      ]
    },
    {
      "cell_type": "code",
      "execution_count": 27,
      "metadata": {
        "colab": {
          "base_uri": "https://localhost:8080/"
        },
        "id": "wbaqaFrSDR3L",
        "outputId": "547dee33-8cff-404d-c729-f4f42afa52a1"
      },
      "outputs": [
        {
          "output_type": "stream",
          "name": "stdout",
          "text": [
            "[[2670  695]\n",
            " [1231 1903]]\n",
            "              precision    recall  f1-score   support\n",
            "\n",
            "           0       0.68      0.79      0.73      3365\n",
            "           1       0.73      0.61      0.66      3134\n",
            "\n",
            "    accuracy                           0.70      6499\n",
            "   macro avg       0.71      0.70      0.70      6499\n",
            "weighted avg       0.71      0.70      0.70      6499\n",
            "\n"
          ]
        }
      ],
      "source": [
        "print(confusion_matrix(y_train,predictions))\n",
        "print(classification_report(y_train,predictions))"
      ]
    },
    {
      "cell_type": "markdown",
      "metadata": {
        "id": "MmhlkurjUSOy"
      },
      "source": [
        "##Prediksi data test"
      ]
    },
    {
      "cell_type": "code",
      "execution_count": 28,
      "metadata": {
        "colab": {
          "base_uri": "https://localhost:8080/"
        },
        "id": "eI1ijOBcFy9n",
        "outputId": "1d3aae6d-f396-49d3-b0af-4595af230fdf"
      },
      "outputs": [
        {
          "output_type": "stream",
          "name": "stdout",
          "text": [
            "Accuracy of the best solution is :  0.699076923076923\n"
          ]
        }
      ],
      "source": [
        "#Implementasi pada data test\n",
        "weights_mat = vector_to_mat(weights_vector, weights_mat)\n",
        "best_weights = weights_mat [0, :]\n",
        "acc, predictions = predict(x_test, y_test, best_weights, sigmoid)\n",
        "print(\"Accuracy of the best solution is : \", acc)"
      ]
    },
    {
      "cell_type": "markdown",
      "metadata": {
        "id": "wT7TbUKAUYHh"
      },
      "source": [
        "###Cunfusion Matrix & Classification Report:"
      ]
    },
    {
      "cell_type": "code",
      "execution_count": 29,
      "metadata": {
        "colab": {
          "base_uri": "https://localhost:8080/"
        },
        "id": "EdiA6mFtHC0s",
        "outputId": "6e8eddec-ee3e-449b-eea7-34599f3dc6dc"
      },
      "outputs": [
        {
          "output_type": "stream",
          "name": "stdout",
          "text": [
            "[[420 423]\n",
            " [ 66 716]]\n",
            "              precision    recall  f1-score   support\n",
            "\n",
            "           0       0.86      0.50      0.63       843\n",
            "           1       0.63      0.92      0.75       782\n",
            "\n",
            "    accuracy                           0.70      1625\n",
            "   macro avg       0.75      0.71      0.69      1625\n",
            "weighted avg       0.75      0.70      0.69      1625\n",
            "\n"
          ]
        }
      ],
      "source": [
        "print(confusion_matrix(y_test,predictions))\n",
        "print(classification_report(y_test,predictions))"
      ]
    }
  ],
  "metadata": {
    "accelerator": "GPU",
    "colab": {
      "provenance": []
    },
    "kernelspec": {
      "display_name": "Python 3",
      "name": "python3"
    },
    "language_info": {
      "name": "python"
    }
  },
  "nbformat": 4,
  "nbformat_minor": 0
}